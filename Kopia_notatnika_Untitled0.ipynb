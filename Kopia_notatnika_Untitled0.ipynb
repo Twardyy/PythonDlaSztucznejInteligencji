{
  "nbformat": 4,
  "nbformat_minor": 0,
  "metadata": {
    "colab": {
      "provenance": [],
      "authorship_tag": "ABX9TyPEe40fhI89rbgAdAbLjmsV",
      "include_colab_link": true
    },
    "kernelspec": {
      "name": "python3",
      "display_name": "Python 3"
    },
    "language_info": {
      "name": "python"
    }
  },
  "cells": [
    {
      "cell_type": "markdown",
      "metadata": {
        "id": "view-in-github",
        "colab_type": "text"
      },
      "source": [
        "<a href=\"https://colab.research.google.com/github/Twardyy/PythonDlaSztucznejInteligencji/blob/main/Kopia_notatnika_Untitled0.ipynb\" target=\"_parent\"><img src=\"https://colab.research.google.com/assets/colab-badge.svg\" alt=\"Open In Colab\"/></a>"
      ]
    },
    {
      "cell_type": "markdown",
      "source": [],
      "metadata": {
        "id": "glcR0q99Bnfg"
      }
    },
    {
      "cell_type": "code",
      "execution_count": null,
      "metadata": {
        "colab": {
          "base_uri": "https://localhost:8080/"
        },
        "id": "-Bz9mhP6_Wnl",
        "outputId": "6430e1f9-3539-4571-8e9b-78dbc6381e6f"
      },
      "outputs": [
        {
          "output_type": "stream",
          "name": "stdout",
          "text": [
            "dddd\n"
          ]
        }
      ],
      "source": [
        "print(\"dddd\")"
      ]
    },
    {
      "cell_type": "markdown",
      "source": [
        "wypisze d"
      ],
      "metadata": {
        "id": "bsAuCZcbBky9"
      }
    }
  ]
}